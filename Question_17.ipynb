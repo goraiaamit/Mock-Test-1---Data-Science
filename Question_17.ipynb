{
 "cells": [
  {
   "cell_type": "markdown",
   "id": "efc12d13-38b6-40cb-a3d5-6372992a68ac",
   "metadata": {},
   "source": [
    "Write a function that takes a list of numbers as input and returns a new list containing only the even numbers from the input list. Use list comprehension to solve this problem.\n",
    "\n",
    "Example:\n",
    "\n",
    "Input: [1, 2, 3, 4, 5, 6, 7, 8, 9, 10]\n",
    "\n",
    "Output: [2, 4, 6, 8, 10]"
   ]
  },
  {
   "cell_type": "code",
   "execution_count": 1,
   "id": "4c781ccc-5d84-4c26-b8ee-35cd0ce462e9",
   "metadata": {},
   "outputs": [],
   "source": [
    "def get_even_num(input_list):\n",
    "    return [i for i in input_list if i%2 == 0]"
   ]
  },
  {
   "cell_type": "code",
   "execution_count": 2,
   "id": "1b8aad61-bdbb-4a56-b2d2-4cecd15a628f",
   "metadata": {},
   "outputs": [
    {
     "data": {
      "text/plain": [
       "[2, 4, 6, 8, 10]"
      ]
     },
     "execution_count": 2,
     "metadata": {},
     "output_type": "execute_result"
    }
   ],
   "source": [
    "input_list= [1, 2, 3, 4, 5, 6, 7, 8, 9, 10]\n",
    "get_even_num(input_list)"
   ]
  },
  {
   "cell_type": "code",
   "execution_count": null,
   "id": "70dc6112-7af8-474b-91d4-f55d30e8388a",
   "metadata": {},
   "outputs": [],
   "source": []
  }
 ],
 "metadata": {
  "kernelspec": {
   "display_name": "Python 3 (ipykernel)",
   "language": "python",
   "name": "python3"
  },
  "language_info": {
   "codemirror_mode": {
    "name": "ipython",
    "version": 3
   },
   "file_extension": ".py",
   "mimetype": "text/x-python",
   "name": "python",
   "nbconvert_exporter": "python",
   "pygments_lexer": "ipython3",
   "version": "3.10.6"
  }
 },
 "nbformat": 4,
 "nbformat_minor": 5
}
